{
 "cells": [
  {
   "cell_type": "markdown",
   "metadata": {},
   "source": [
    "---\n",
    "comments: true\n",
    "layout: post\n",
    "hide: True\n",
    "title: Basics of HTML Guide\n",
    "description: An introduction to basic HTML, and resources to learn more.\n",
    "type: ccc\n",
    "permalink: /basics/html\n",
    "---"
   ]
  },
  {
   "cell_type": "raw",
   "metadata": {},
   "source": [
    "{% include nav_basics.html %}"
   ]
  },
  {
   "cell_type": "code",
   "execution_count": 22,
   "metadata": {
    "vscode": {
     "languageId": "html"
    }
   },
   "outputs": [
    {
     "data": {
      "text/html": [
       "\n",
       "<h3> My favorite competitive extracurriculars: </h3>\n",
       "\n",
       "<html>\n",
       "\n",
       "<div>\n",
       "<button><a href=\"https://www.deca.org/\">DECA: For Emerging Leaders and Entrepreneurs</a></button>\n",
       "</div>\n",
       "\n",
       "<div>\n",
       "<button><a href=\"https://www.speechanddebate.org/competition-events/\">Speech and Debate: Build Your Voice and Your Confidence</a></button>\n",
       "</div>\n",
       "\n",
       "</html>\n",
       "<!-- put your HTML code in this cell, Make sure to press the Run button to see your results below -->\n"
      ],
      "text/plain": [
       "<IPython.core.display.HTML object>"
      ]
     },
     "metadata": {},
     "output_type": "display_data"
    }
   ],
   "source": [
    "%%html\n",
    "\n",
    "<h3> My favorite competitive extracurriculars: </h3>\n",
    "\n",
    "<html>\n",
    "\n",
    "<div>\n",
    "<button><a href=\"https://www.deca.org/\">DECA: For Emerging Leaders and Entrepreneurs</a></button>\n",
    "</div>\n",
    "\n",
    "<div>\n",
    "<button><a href=\"https://www.speechanddebate.org/competition-events/\">Speech and Debate: Build Your Voice and Your Confidence</a></button>\n",
    "</div>\n",
    "\n",
    "</html>\n",
    "<!-- put your HTML code in this cell, Make sure to press the Run button to see your results below -->"
   ]
  },
  {
   "cell_type": "markdown",
   "metadata": {},
   "source": [
    "# HTML Hacks\n",
    "- Below is a wireframe for an HTML element you will create. A wireframe is a rough visual representation of HTML elements on a page and isn't necessarily to scale or have the exact styling that the final HTML will have. Using the syntax above, try to create an HTML snippet that corresponds to the below wireframe.\n",
    "- The \"a tags\" can contain any links that you want\n",
    "\n",
    "![wireframe for html hacks]({{ site.baseurl }}/images/wireframe.png)"
   ]
  },
  {
   "cell_type": "markdown",
   "metadata": {},
   "source": [
    "<script src=\"https://utteranc.es/client.js\"\n",
    "        repo=\"BVrndaKanhye/bvk-csse-1\"\n",
    "        issue-term=\"pathname\"\n",
    "        theme=\"icy-dark\"\n",
    "        crossorigin=\"anonymous\"\n",
    "        async>\n",
    "</script>"
   ]
  }
 ],
 "metadata": {
  "kernelspec": {
   "display_name": "Python 3",
   "language": "python",
   "name": "python3"
  },
  "language_info": {
   "codemirror_mode": {
    "name": "ipython",
    "version": 3
   },
   "file_extension": ".py",
   "mimetype": "text/x-python",
   "name": "python",
   "nbconvert_exporter": "python",
   "pygments_lexer": "ipython3",
   "version": "3.10.12"
  },
  "orig_nbformat": 4
 },
 "nbformat": 4,
 "nbformat_minor": 2
}
