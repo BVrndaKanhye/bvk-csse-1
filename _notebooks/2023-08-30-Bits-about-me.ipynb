{
 "cells": [
  {
   "attachments": {},
   "cell_type": "markdown",
   "metadata": {},
   "source": [
    "---\n",
    "toc: true\n",
    "comments: true\n",
    "layout: post\n",
    "title: Bits about me~\n",
    "description: Fun facts about me, my life, and my passions!\n",
    "courses: { csse: {week: 1} }\n",
    "type: tangibles\n",
    "---"
   ]
  },
  {
   "cell_type": "code",
   "execution_count": null,
   "metadata": {
    "vscode": {
     "languageId": "plaintext"
    }
   },
   "outputs": [],
   "source": [
    "\n",
    "## Bits about me:\n",
    "> ### My freeform photo:\n",
    "![bvk csse 1 form photo](/images/bvk_csse_1_form_drawing_1.jpg) \n",
    "\n",
    "> ### Academic background\n",
    "- 10th grader, class of 2026\n",
    "- Schedule:\n",
    "  - Tri 1: \n",
    "   - P1: Honors Humanities 1\n",
    "   - P2: Chinese 4\n",
    "   - P3: Int. Math 3a\n",
    "   - P4: CSSE 1\n",
    "   - P5: APES \n",
    "- Extra curriculars: \n",
    "    - DECA (competitive business club)\n",
    "    - Speech and Debate (currently in speech, Varsity impromptu and novice informative/expository!)\n",
    "    - CyberBORN (tutoring club for less privildges kids)\n",
    "    - G.R.I.T (about to be founded with my friend, about student success and maintaining both academics and other parts of life to be the best people we can be!)\n",
    "- My current academic passions:\n",
    "    - Writing/Humanities\n",
    "    - Environmental science kind of\n",
    "    - Teaching/tutoring\n",
    "    - Business (entrepreneurship, business ownership, and marketing)"
   ]
  }
 ],
 "metadata": {
  "kernelspec": {
   "display_name": "Python 3.10.6 64-bit",
   "language": "python",
   "name": "python3"
  },
  "language_info": {
   "codemirror_mode": {
    "name": "ipython",
    "version": 3
   },
   "file_extension": ".py",
   "mimetype": "text/x-python",
   "name": "python",
   "nbconvert_exporter": "python",
   "pygments_lexer": "ipython3",
   "version": "3.10.12"
  },
  "vscode": {
   "interpreter": {
    "hash": "aee8b7b246df8f9039afb4144a1f6fd8d2ca17a180786b69acc140d282b71a49"
   }
  }
 },
 "nbformat": 4,
 "nbformat_minor": 2
}
