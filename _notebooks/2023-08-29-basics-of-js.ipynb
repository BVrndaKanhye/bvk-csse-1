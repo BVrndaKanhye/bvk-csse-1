{
 "cells": [
  {
   "cell_type": "markdown",
   "metadata": {},
   "source": [
    "---\n",
    "comments: true\n",
    "title: Basics of Javascript\n",
    "hide: True\n",
    "description: A Tech Talk on how to use javascript\n",
    "type: ccc\n",
    "permalink: /basics/javascript\n",
    "---"
   ]
  },
  {
   "cell_type": "markdown",
   "metadata": {},
   "source": []
  },
  {
   "cell_type": "raw",
   "metadata": {},
   "source": [
    "{% include nav_basics.html %}\n"
   ]
  },
  {
   "cell_type": "markdown",
   "metadata": {},
   "source": [
    "# Hacks\n",
    "- Write a JavaScript program that compares two variables, a and b. Log \"a is greater\" if a is greater than b, \"b is greater\" if b is greater than a, and \"both are equal\" if a and b are equal. Make sure to use if statements and console.log"
   ]
  },
  {
   "cell_type": "code",
   "execution_count": 19,
   "metadata": {},
   "outputs": [
    {
     "data": {
      "application/javascript": "\nconsole.log(\"If statements + Operators\")\nvar a = 100\nvar b = 28\n\nif (a > b) {\n    // runs if a is more than b\n    console.log(\"a is more than b\")\n\n} else if (a == b) {\n    // runs if a and b are the same\n    console.log(\"a is the same as b\")\n\n// (a < b)\n} else  {\n    // runs if b is more than a\n    console.log(\"a is less than b\")\n}\n",
      "text/plain": [
       "<IPython.core.display.Javascript object>"
      ]
     },
     "metadata": {},
     "output_type": "display_data"
    }
   ],
   "source": [
    "%%js\n",
    "\n",
    "console.log(\"If statements + Operators\")\n",
    "var a = 100\n",
    "var b = 28\n",
    "\n",
    "if (a > b) {\n",
    "    // runs if a is more than b\n",
    "    console.log(\"a is more than b\")\n",
    "\n",
    "} else if (a == b) {\n",
    "    // runs if a and b are the same\n",
    "    console.log(\"a is the same as b\")\n",
    "\n",
    "// (a < b)\n",
    "} else  {\n",
    "    // runs if b is more than a\n",
    "    console.log(\"a is less than b\")\n",
    "}\n"
   ]
  },
  {
   "cell_type": "code",
   "execution_count": null,
   "metadata": {
    "vscode": {
     "languageId": "html"
    }
   },
   "outputs": [
    {
     "data": {
      "text/html": [
       "<script>\n",
       "console.log(\"If statements + Operators\")\n",
       "var age1 = 17\n",
       "var age2 = 37\n",
       "\n",
       "if (age1 > age2) {\n",
       "    // runs if age1 is more than age2\n",
       "    console.log(\"age1 is more than age2\")\n",
       "\n",
       "} else if (age1 == age2) {\n",
       "    // runs if age1 and age2 are the same\n",
       "    console.log(\"age1 is the same as age2\")\n",
       "\n",
       "// (age1 < age2)\n",
       "} else  {\n",
       "    // runs if age2 is more than age1\n",
       "    console.log(\"age1 is less than age2\")\n",
       "}\n",
       "\n",
       "</script>\n"
      ],
      "text/plain": [
       "<IPython.core.display.HTML object>"
      ]
     },
     "metadata": {},
     "output_type": "display_data"
    }
   ],
   "source": [
    "%%html\n",
    "<script>\n",
    "console.log(\"If statements + Operators\")\n",
    "var a = 17\n",
    "var b = 37\n",
    "\n",
    "if (a > b) {\n",
    "    // runs if a is more than b\n",
    "    console.log(\"a is more than b\")\n",
    "\n",
    "} else if (a == b) {\n",
    "    // runs if a and b are the same\n",
    "    console.log(\"a is the same as b\")\n",
    "\n",
    "// (a < b)\n",
    "} else  {\n",
    "    // runs if b is more than a\n",
    "    console.log(\"a is less than b\")\n",
    "}\n",
    "\n",
    "</script>"
   ]
  },
  {
   "cell_type": "markdown",
   "metadata": {},
   "source": [
    "<script src=\"https://utteranc.es/client.js\"\n",
    "        repo=\"BVrndaKanhye/bvk-csse-1\"\n",
    "        issue-term=\"[ENTER TERM HERE]\"\n",
    "        theme=\"icy-dark\"\n",
    "        crossorigin=\"anonymous\"\n",
    "        async>\n",
    "</script>"
   ]
  }
 ],
 "metadata": {
  "kernelspec": {
   "display_name": "Python 3",
   "language": "python",
   "name": "python3"
  },
  "language_info": {
   "codemirror_mode": {
    "name": "ipython",
    "version": 3
   },
   "file_extension": ".py",
   "mimetype": "text/x-python",
   "name": "python",
   "nbconvert_exporter": "python",
   "pygments_lexer": "ipython3",
   "version": "3.10.12"
  },
  "orig_nbformat": 4
 },
 "nbformat": 4,
 "nbformat_minor": 2
}
