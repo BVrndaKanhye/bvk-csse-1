{
 "cells": [
  {
   "attachments": {},
   "cell_type": "markdown",
   "metadata": {},
   "source": [
    "---\n",
    "title: JS Four Function Calculator\n",
    "comments: true\n",
    "hide: true\n",
    "layout: default\n",
    "description: A common way to become familiar with a language is to build a calculator.  This calculator shows off button with actions.\n",
    "categories: tangibles\n",
    "courses: { csse: {week: 2}}\n",
    "---"
   ]
  }
 ],
 "metadata": {
  "kernelspec": {
   "display_name": "Python 3 (ipykernel)",
   "language": "python",
   "name": "python3"
  },
  "language_info": {
   "codemirror_mode": {
    "name": "ipython",
    "version": 3
   },
   "file_extension": ".py",
   "mimetype": "text/x-python",
   "name": "python",
   "nbconvert_exporter": "python",
   "pygments_lexer": "ipython3",
   "version": "3.10.12"
  }
 },
 "nbformat": 4,
 "nbformat_minor": 2
}
